{
 "cells": [
  {
   "cell_type": "code",
   "execution_count": 1,
   "id": "6c02a88e",
   "metadata": {},
   "outputs": [],
   "source": [
    "import os\n",
    "os.environ[\"MLFLOW_TRACKING_URI\"]=\"https://dagshub.com/meghabhairi114/End-To-End-DSProject.mlflow\"\n",
    "os.environ[\"MLFLOW_TRACKING_USERNAME\"]=\"meghabhairi114\"\n",
    "os.environ[\"MLFLOW_TRACKING_PASSWORD\"]=\"b29b387dc277f7e7950d37ae3110a3626be2fb07\""
   ]
  },
  {
   "cell_type": "code",
   "execution_count": 2,
   "id": "ca8e7bb5",
   "metadata": {},
   "outputs": [
    {
     "data": {
      "text/plain": [
       "'c:\\\\Users\\\\HP\\\\Desktop\\\\MLFlow\\\\End-To-End-DSProject\\\\research'"
      ]
     },
     "execution_count": 2,
     "metadata": {},
     "output_type": "execute_result"
    }
   ],
   "source": [
    "%pwd"
   ]
  },
  {
   "cell_type": "code",
   "execution_count": 3,
   "id": "ef8f18ac",
   "metadata": {},
   "outputs": [
    {
     "data": {
      "text/plain": [
       "'c:\\\\Users\\\\HP\\\\Desktop\\\\MLFlow\\\\End-To-End-DSProject'"
      ]
     },
     "execution_count": 3,
     "metadata": {},
     "output_type": "execute_result"
    }
   ],
   "source": [
    "os.chdir(\"../\")\n",
    "%pwd"
   ]
  },
  {
   "cell_type": "code",
   "execution_count": 4,
   "id": "502d3ee5",
   "metadata": {},
   "outputs": [],
   "source": [
    "from  dataclasses import dataclass\n",
    "from pathlib import Path\n",
    "\n",
    "\n",
    "@dataclass\n",
    "class ModelEvaluationConfig:\n",
    "    root_dir: Path\n",
    "    test_data_path: Path\n",
    "    model_path: Path\n",
    "    all_params: dict\n",
    "    metric_filename: Path\n",
    "    target_column: str\n",
    "    mlflow_uri: str\n",
    "    "
   ]
  },
  {
   "cell_type": "code",
   "execution_count": 5,
   "id": "82049b79",
   "metadata": {},
   "outputs": [
    {
     "name": "stdout",
     "output_type": "stream",
     "text": [
      "[2025-06-04 13:33:28,132: INFO: __init__: Logger initialized successfully in datascience package.]\n"
     ]
    }
   ],
   "source": [
    "from src.datascience.constants import CONFIG_FILEPATH, PARAMS_FILEPATH,SCHEMA_FILEPATH\n",
    "from src.datascience.utils.common import read_yaml , create_directories , save_json"
   ]
  },
  {
   "cell_type": "code",
   "execution_count": 6,
   "id": "084a192c",
   "metadata": {},
   "outputs": [],
   "source": [
    "class ConfigurationManager:\n",
    "    def __init__(self,\n",
    "                 config_filepath=CONFIG_FILEPATH,\n",
    "                 params_filepath=PARAMS_FILEPATH,\n",
    "                 schema_filepath=SCHEMA_FILEPATH):\n",
    "        self.config = read_yaml(config_filepath)\n",
    "        self.params = read_yaml(params_filepath)\n",
    "        self.schema = read_yaml(schema_filepath)\n",
    "\n",
    "        create_directories([self.config.artifacts_root])\n",
    "\n",
    "    def get_model_evaluation_config(self)-> ModelEvaluationConfig:\n",
    "        config=self.config.model_evaluation\n",
    "        params=self.params.ElasticNet\n",
    "        schema=self.schema.TARGET_COLUMN\n",
    "\n",
    "        create_directories([config.root_dir])\n",
    "\n",
    "        model_evaluation_config=ModelEvaluationConfig(\n",
    "                root_dir=config.root_dir,\n",
    "                test_data_path=config.test_data_path,\n",
    "                model_path=config.model_path,\n",
    "                all_params=params,\n",
    "                metric_filename= config.metric_filename,\n",
    "                target_column= schema.name,\n",
    "                mlflow_uri=\"https://dagshub.com/meghabhairi114/End-To-End-DSProject.mlflow\")\n",
    "            \n",
    "            \n",
    "        return  model_evaluation_config"
   ]
  },
  {
   "cell_type": "code",
   "execution_count": 7,
   "id": "8ff8bd84",
   "metadata": {},
   "outputs": [],
   "source": [
    "import os\n",
    "import pandas as pd\n",
    "from sklearn.metrics import mean_squared_error , mean_absolute_error , r2_score\n",
    "from urllib.parse import urlparse\n",
    "import mlflow\n",
    "import mlflow.sklearn\n",
    "import numpy as np\n",
    "import joblib"
   ]
  },
  {
   "cell_type": "code",
   "execution_count": 10,
   "id": "c0c06fdd",
   "metadata": {},
   "outputs": [],
   "source": [
    "class ModelEvaluation:\n",
    "    def __init__(self , config=ModelEvaluationConfig):\n",
    "        self.config=config\n",
    "        \n",
    "    def eval_metrics(self , actual , pred):\n",
    "        rmse=np.sqrt(mean_squared_error(actual  ,pred))\n",
    "        mae= mean_absolute_error(actual , pred)\n",
    "        r2 = r2_score(actual , pred)\n",
    "        return rmse, mae, r2\n",
    "    \n",
    "    def  log_into_mlflow(self):\n",
    "        test_data=pd.read_csv(self.config.test_data_path)\n",
    "        model=joblib.load(self.config.model_path)\n",
    "\n",
    "        test_x=test_data.drop([self.config.target_column] , axis=1)\n",
    "        test_y=test_data[[self.config.target_column]]\n",
    "\n",
    "        mlflow.set_registry_uri(self.config.mlflow_uri)\n",
    "        tracking_url_type_store = urlparse(mlflow.get_tracking_uri()).scheme\n",
    "\n",
    "\n",
    "        with mlflow.start_run():\n",
    "\n",
    "            predicted_qualitites=model.predict(test_x)\n",
    "\n",
    "            (rmse , mae, r2)=self.eval_metrics(test_y , predicted_qualitites)\n",
    "\n",
    "            #Save metrics\n",
    "            scores={\"rmse\": rmse,\"mae\": mae ,\"r2\": r2}\n",
    "            save_json(path=Path(self.config.metric_filename) ,data=scores)\n",
    "\n",
    "            mlflow.log_params(self.config.all_params)\n",
    "            mlflow.log_metric(\"rmse\" , rmse)\n",
    "            mlflow.log_metric(\"mae\" , mae)\n",
    "            mlflow.log_metric(\"r2\" , r2)\n",
    "\n",
    "            if tracking_url_type_store != \"file\":\n",
    "                mlflow.sklearn.log_model(model, \"model\", registered_model_name=\"ElasticNetModel\")\n",
    "            else:\n",
    "                mlflow.sklearn.log_model(model, \"model\")"
   ]
  },
  {
   "cell_type": "code",
   "execution_count": 11,
   "id": "c895ab82",
   "metadata": {},
   "outputs": [
    {
     "name": "stdout",
     "output_type": "stream",
     "text": [
      "[2025-06-04 13:34:32,532: INFO: common: yaml file:config\\config.yaml is loaded successfully]\n",
      "[2025-06-04 13:34:32,538: INFO: common: yaml file:params.yaml is loaded successfully]\n",
      "[2025-06-04 13:34:32,547: INFO: common: yaml file:schema.yaml is loaded successfully]\n",
      "[2025-06-04 13:34:32,552: INFO: common: Created directory at :artifacts_root]\n",
      "[2025-06-04 13:34:32,555: INFO: common: Created directory at :artifacts/model_evaluation]\n",
      "[2025-06-04 13:34:32,970: INFO: common: json file saved at artifacts\\model_evaluation\\metrics.json]\n"
     ]
    },
    {
     "name": "stderr",
     "output_type": "stream",
     "text": [
      "2025/06/04 13:34:59 WARNING mlflow.models.model: Model logged without a signature and input example. Please set `input_example` parameter when logging the model to auto infer the model signature.\n",
      "Successfully registered model 'ElasticNetModel'.\n",
      "2025/06/04 13:35:04 INFO mlflow.store.model_registry.abstract_store: Waiting up to 300 seconds for model version to finish creation. Model name: ElasticNetModel, version 1\n",
      "Created version '1' of model 'ElasticNetModel'.\n"
     ]
    },
    {
     "name": "stdout",
     "output_type": "stream",
     "text": [
      "🏃 View run nimble-croc-635 at: https://dagshub.com/meghabhairi114/End-To-End-DSProject.mlflow/#/experiments/0/runs/cde98c3e63594547876085b716b240eb\n",
      "🧪 View experiment at: https://dagshub.com/meghabhairi114/End-To-End-DSProject.mlflow/#/experiments/0\n"
     ]
    }
   ],
   "source": [
    "try:\n",
    "    config = ConfigurationManager()\n",
    "    model_evaluation_config = config.get_model_evaluation_config()\n",
    "    model_evaluation = ModelEvaluation(config=model_evaluation_config)\n",
    "    model_evaluation.log_into_mlflow()\n",
    "except Exception as e:\n",
    "    raise e"
   ]
  },
  {
   "cell_type": "code",
   "execution_count": null,
   "id": "57bda2e1",
   "metadata": {},
   "outputs": [],
   "source": []
  }
 ],
 "metadata": {
  "kernelspec": {
   "display_name": "Python 3",
   "language": "python",
   "name": "python3"
  },
  "language_info": {
   "codemirror_mode": {
    "name": "ipython",
    "version": 3
   },
   "file_extension": ".py",
   "mimetype": "text/x-python",
   "name": "python",
   "nbconvert_exporter": "python",
   "pygments_lexer": "ipython3",
   "version": "3.10.16"
  }
 },
 "nbformat": 4,
 "nbformat_minor": 5
}
